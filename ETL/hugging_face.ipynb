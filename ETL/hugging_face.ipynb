{
 "cells": [
  {
   "cell_type": "code",
   "execution_count": 65,
   "id": "db356440",
   "metadata": {},
   "outputs": [],
   "source": [
    "from datasets import load_dataset\n",
    "import pandas as pd\n",
    "\n",
    "# Load the US App Store metadata\n",
    "ds = load_dataset(\"MacPaw/mac-app-store-apps-metadata\", \"metadata_US\")\n",
    "\n",
    "# Convert to pandas DataFrame\n",
    "df = ds['train'].to_pandas()"
   ]
  },
  {
   "cell_type": "code",
   "execution_count": 66,
   "id": "0ad6f9de",
   "metadata": {},
   "outputs": [],
   "source": [
    "df['releaseDate'] = pd.to_datetime(df['releaseDate'], errors='coerce', utc=True)\n",
    "df['currentVersionReleaseDate'] = pd.to_datetime(df['currentVersionReleaseDate'], errors='coerce', utc=True)"
   ]
  },
  {
   "cell_type": "code",
   "execution_count": 67,
   "id": "5dccd974",
   "metadata": {},
   "outputs": [],
   "source": [
    "df['isGameCenterEnabled'] = df['isGameCenterEnabled'].astype(bool)\n",
    "df['isVppDeviceBasedLicensingEnabled'] = df['isVppDeviceBasedLicensingEnabled'].astype(bool)"
   ]
  },
  {
   "cell_type": "code",
   "execution_count": 68,
   "id": "586d0902",
   "metadata": {},
   "outputs": [],
   "source": [
    "rating_cols = [\n",
    "    'averageUserRating', 'userRatingCount',\n",
    "    'averageUserRatingForCurrentVersion', 'userRatingCountForCurrentVersion',\n",
    "    'price', 'fileSizeBytes'\n",
    "]\n",
    "for col in rating_cols:\n",
    "    df[col] = pd.to_numeric(df[col], errors='coerce').fillna(0)"
   ]
  },
  {
   "cell_type": "code",
   "execution_count": 69,
   "id": "042c9dc8",
   "metadata": {},
   "outputs": [],
   "source": [
    "cat_cols = ['primaryGenreName', 'contentAdvisoryRating', 'trackContentRating', 'currency']\n",
    "for col in cat_cols:\n",
    "    df[col] = df[col].astype('category')"
   ]
  },
  {
   "cell_type": "code",
   "execution_count": 70,
   "id": "f3a4b469",
   "metadata": {},
   "outputs": [],
   "source": [
    "df['description'] = df['description'].fillna('').astype(str)\n",
    "df['releaseNotes'] = df['releaseNotes'].fillna('').astype(str)\n",
    "\n",
    "df['formattedPrice'] = df['price'].apply(lambda x: f\"${x:.2f}\" if x > 0 else \"Free\")\n"
   ]
  },
  {
   "cell_type": "code",
   "execution_count": 71,
   "id": "f121fc7c",
   "metadata": {},
   "outputs": [],
   "source": [
    "df = df.convert_dtypes()"
   ]
  },
  {
   "cell_type": "code",
   "execution_count": 72,
   "id": "23296c88",
   "metadata": {},
   "outputs": [
    {
     "name": "stdout",
     "output_type": "stream",
     "text": [
      "<class 'pandas.core.frame.DataFrame'>\n",
      "RangeIndex: 31408 entries, 0 to 31407\n",
      "Data columns (total 45 columns):\n",
      " #   Column                              Non-Null Count  Dtype              \n",
      "---  ------                              --------------  -----              \n",
      " 0   id                                  31408 non-null  Int64              \n",
      " 1   supportedDevices                    8858 non-null   string             \n",
      " 2   features                            8858 non-null   string             \n",
      " 3   advisories                          8858 non-null   string             \n",
      " 4   isGameCenterEnabled                 31408 non-null  boolean            \n",
      " 5   screenshotUrls                      31408 non-null  string             \n",
      " 6   ipadScreenshotUrls                  8858 non-null   string             \n",
      " 7   appletvScreenshotUrls               8858 non-null   string             \n",
      " 8   artworkUrl60                        31408 non-null  string             \n",
      " 9   artworkUrl512                       31408 non-null  string             \n",
      " 10  artworkUrl100                       31408 non-null  string             \n",
      " 11  artistViewUrl                       31356 non-null  string             \n",
      " 12  kind                                31408 non-null  string             \n",
      " 13  minimumOsVersion                    31408 non-null  string             \n",
      " 14  releaseNotes                        31408 non-null  string             \n",
      " 15  artistId                            31408 non-null  Int64              \n",
      " 16  artistName                          31408 non-null  string             \n",
      " 17  genres                              31408 non-null  string             \n",
      " 18  price                               31408 non-null  Float64            \n",
      " 19  description                         31408 non-null  string             \n",
      " 20  trackId                             31408 non-null  Int64              \n",
      " 21  trackName                           31408 non-null  string             \n",
      " 22  bundleId                            31408 non-null  string             \n",
      " 23  primaryGenreName                    31408 non-null  category           \n",
      " 24  primaryGenreId                      31408 non-null  Int64              \n",
      " 25  genreIds                            31408 non-null  string             \n",
      " 26  releaseDate                         31408 non-null  datetime64[ns, UTC]\n",
      " 27  isVppDeviceBasedLicensingEnabled    31408 non-null  boolean            \n",
      " 28  sellerName                          31408 non-null  string             \n",
      " 29  currentVersionReleaseDate           31408 non-null  datetime64[ns, UTC]\n",
      " 30  currency                            31408 non-null  category           \n",
      " 31  trackCensoredName                   31408 non-null  string             \n",
      " 32  languageCodesISO2A                  31408 non-null  string             \n",
      " 33  fileSizeBytes                       31408 non-null  Int64              \n",
      " 34  sellerUrl                           19274 non-null  string             \n",
      " 35  formattedPrice                      31408 non-null  string             \n",
      " 36  contentAdvisoryRating               31408 non-null  category           \n",
      " 37  averageUserRatingForCurrentVersion  31408 non-null  Float64            \n",
      " 38  userRatingCountForCurrentVersion    31408 non-null  Int64              \n",
      " 39  averageUserRating                   31408 non-null  Float64            \n",
      " 40  trackViewUrl                        31408 non-null  string             \n",
      " 41  trackContentRating                  31408 non-null  category           \n",
      " 42  version                             31408 non-null  string             \n",
      " 43  wrapperType                         31408 non-null  string             \n",
      " 44  userRatingCount                     31408 non-null  Int64              \n",
      "dtypes: Float64(3), Int64(7), boolean(2), category(4), datetime64[ns, UTC](2), string(27)\n",
      "memory usage: 9.9 MB\n"
     ]
    }
   ],
   "source": [
    "df.info()"
   ]
  },
  {
   "cell_type": "code",
   "execution_count": 73,
   "id": "92c3e2f3",
   "metadata": {},
   "outputs": [
    {
     "ename": "KeyError",
     "evalue": "\"['formattedPricecontentAdvisoryRating'] not in index\"",
     "output_type": "error",
     "traceback": [
      "\u001b[31m---------------------------------------------------------------------------\u001b[39m",
      "\u001b[31mKeyError\u001b[39m                                  Traceback (most recent call last)",
      "\u001b[36mCell\u001b[39m\u001b[36m \u001b[39m\u001b[32mIn[73]\u001b[39m\u001b[32m, line 1\u001b[39m\n\u001b[32m----> \u001b[39m\u001b[32m1\u001b[39m overview_df = \u001b[43mdf\u001b[49m\u001b[43m[\u001b[49m\u001b[43m[\u001b[49m\n\u001b[32m      2\u001b[39m \u001b[43m    \u001b[49m\u001b[33;43m'\u001b[39;49m\u001b[33;43mtrackId\u001b[39;49m\u001b[33;43m'\u001b[39;49m\u001b[43m,\u001b[49m\u001b[43m \u001b[49m\u001b[33;43m'\u001b[39;49m\u001b[33;43mtrackName\u001b[39;49m\u001b[33;43m'\u001b[39;49m\u001b[43m,\u001b[49m\u001b[43m \u001b[49m\u001b[33;43m'\u001b[39;49m\u001b[33;43mprimaryGenreName\u001b[39;49m\u001b[33;43m'\u001b[39;49m\u001b[43m,\u001b[49m\u001b[43m \u001b[49m\u001b[33;43m'\u001b[39;49m\u001b[33;43maverageUserRating\u001b[39;49m\u001b[33;43m'\u001b[39;49m\u001b[43m,\u001b[49m\u001b[33;43m'\u001b[39;49m\u001b[33;43mformattedPrice\u001b[39;49m\u001b[33;43m'\u001b[39;49m\n\u001b[32m      3\u001b[39m \u001b[43m    \u001b[49m\u001b[33;43m'\u001b[39;49m\u001b[33;43mcontentAdvisoryRating\u001b[39;49m\u001b[33;43m'\u001b[39;49m\u001b[43m,\u001b[49m\u001b[43m \u001b[49m\u001b[33;43m'\u001b[39;49m\u001b[33;43muserRatingCount\u001b[39;49m\u001b[33;43m'\u001b[39;49m\n\u001b[32m      4\u001b[39m \u001b[43m]\u001b[49m\u001b[43m]\u001b[49m\n\u001b[32m      5\u001b[39m overview_df.to_parquet(\u001b[33m'\u001b[39m\u001b[33mC:/Users/nandi/OneDrive/Desktop/Profitable-App-Profiles-for-Mobile-Market/data/overview.parquet\u001b[39m\u001b[33m'\u001b[39m, index=\u001b[38;5;28;01mFalse\u001b[39;00m)\n",
      "\u001b[36mFile \u001b[39m\u001b[32m~\\AppData\\Local\\Packages\\PythonSoftwareFoundation.Python.3.11_qbz5n2kfra8p0\\LocalCache\\local-packages\\Python311\\site-packages\\pandas\\core\\frame.py:4113\u001b[39m, in \u001b[36mDataFrame.__getitem__\u001b[39m\u001b[34m(self, key)\u001b[39m\n\u001b[32m   4111\u001b[39m     \u001b[38;5;28;01mif\u001b[39;00m is_iterator(key):\n\u001b[32m   4112\u001b[39m         key = \u001b[38;5;28mlist\u001b[39m(key)\n\u001b[32m-> \u001b[39m\u001b[32m4113\u001b[39m     indexer = \u001b[38;5;28;43mself\u001b[39;49m\u001b[43m.\u001b[49m\u001b[43mcolumns\u001b[49m\u001b[43m.\u001b[49m\u001b[43m_get_indexer_strict\u001b[49m\u001b[43m(\u001b[49m\u001b[43mkey\u001b[49m\u001b[43m,\u001b[49m\u001b[43m \u001b[49m\u001b[33;43m\"\u001b[39;49m\u001b[33;43mcolumns\u001b[39;49m\u001b[33;43m\"\u001b[39;49m\u001b[43m)\u001b[49m[\u001b[32m1\u001b[39m]\n\u001b[32m   4115\u001b[39m \u001b[38;5;66;03m# take() does not accept boolean indexers\u001b[39;00m\n\u001b[32m   4116\u001b[39m \u001b[38;5;28;01mif\u001b[39;00m \u001b[38;5;28mgetattr\u001b[39m(indexer, \u001b[33m\"\u001b[39m\u001b[33mdtype\u001b[39m\u001b[33m\"\u001b[39m, \u001b[38;5;28;01mNone\u001b[39;00m) == \u001b[38;5;28mbool\u001b[39m:\n",
      "\u001b[36mFile \u001b[39m\u001b[32m~\\AppData\\Local\\Packages\\PythonSoftwareFoundation.Python.3.11_qbz5n2kfra8p0\\LocalCache\\local-packages\\Python311\\site-packages\\pandas\\core\\indexes\\base.py:6212\u001b[39m, in \u001b[36mIndex._get_indexer_strict\u001b[39m\u001b[34m(self, key, axis_name)\u001b[39m\n\u001b[32m   6209\u001b[39m \u001b[38;5;28;01melse\u001b[39;00m:\n\u001b[32m   6210\u001b[39m     keyarr, indexer, new_indexer = \u001b[38;5;28mself\u001b[39m._reindex_non_unique(keyarr)\n\u001b[32m-> \u001b[39m\u001b[32m6212\u001b[39m \u001b[38;5;28;43mself\u001b[39;49m\u001b[43m.\u001b[49m\u001b[43m_raise_if_missing\u001b[49m\u001b[43m(\u001b[49m\u001b[43mkeyarr\u001b[49m\u001b[43m,\u001b[49m\u001b[43m \u001b[49m\u001b[43mindexer\u001b[49m\u001b[43m,\u001b[49m\u001b[43m \u001b[49m\u001b[43maxis_name\u001b[49m\u001b[43m)\u001b[49m\n\u001b[32m   6214\u001b[39m keyarr = \u001b[38;5;28mself\u001b[39m.take(indexer)\n\u001b[32m   6215\u001b[39m \u001b[38;5;28;01mif\u001b[39;00m \u001b[38;5;28misinstance\u001b[39m(key, Index):\n\u001b[32m   6216\u001b[39m     \u001b[38;5;66;03m# GH 42790 - Preserve name from an Index\u001b[39;00m\n",
      "\u001b[36mFile \u001b[39m\u001b[32m~\\AppData\\Local\\Packages\\PythonSoftwareFoundation.Python.3.11_qbz5n2kfra8p0\\LocalCache\\local-packages\\Python311\\site-packages\\pandas\\core\\indexes\\base.py:6264\u001b[39m, in \u001b[36mIndex._raise_if_missing\u001b[39m\u001b[34m(self, key, indexer, axis_name)\u001b[39m\n\u001b[32m   6261\u001b[39m     \u001b[38;5;28;01mraise\u001b[39;00m \u001b[38;5;167;01mKeyError\u001b[39;00m(\u001b[33mf\u001b[39m\u001b[33m\"\u001b[39m\u001b[33mNone of [\u001b[39m\u001b[38;5;132;01m{\u001b[39;00mkey\u001b[38;5;132;01m}\u001b[39;00m\u001b[33m] are in the [\u001b[39m\u001b[38;5;132;01m{\u001b[39;00maxis_name\u001b[38;5;132;01m}\u001b[39;00m\u001b[33m]\u001b[39m\u001b[33m\"\u001b[39m)\n\u001b[32m   6263\u001b[39m not_found = \u001b[38;5;28mlist\u001b[39m(ensure_index(key)[missing_mask.nonzero()[\u001b[32m0\u001b[39m]].unique())\n\u001b[32m-> \u001b[39m\u001b[32m6264\u001b[39m \u001b[38;5;28;01mraise\u001b[39;00m \u001b[38;5;167;01mKeyError\u001b[39;00m(\u001b[33mf\u001b[39m\u001b[33m\"\u001b[39m\u001b[38;5;132;01m{\u001b[39;00mnot_found\u001b[38;5;132;01m}\u001b[39;00m\u001b[33m not in index\u001b[39m\u001b[33m\"\u001b[39m)\n",
      "\u001b[31mKeyError\u001b[39m: \"['formattedPricecontentAdvisoryRating'] not in index\""
     ]
    }
   ],
   "source": [
    "overview_df = df[[\n",
    "    'trackId', 'trackName', 'primaryGenreName', 'averageUserRating','formattedPrice'\n",
    "    'contentAdvisoryRating', 'userRatingCount'\n",
    "]]\n",
    "overview_df.to_parquet('C:/Users/nandi/OneDrive/Desktop/Profitable-App-Profiles-for-Mobile-Market/data/overview.parquet', index=False)"
   ]
  },
  {
   "cell_type": "code",
   "execution_count": null,
   "id": "2d93c216",
   "metadata": {},
   "outputs": [
    {
     "data": {
      "text/plain": [
       "Index(['id', 'supportedDevices', 'features', 'advisories',\n",
       "       'isGameCenterEnabled', 'screenshotUrls', 'ipadScreenshotUrls',\n",
       "       'appletvScreenshotUrls', 'artworkUrl60', 'artworkUrl512',\n",
       "       'artworkUrl100', 'artistViewUrl', 'kind', 'minimumOsVersion',\n",
       "       'releaseNotes', 'artistId', 'artistName', 'genres', 'price',\n",
       "       'description', 'trackId', 'trackName', 'bundleId', 'primaryGenreName',\n",
       "       'primaryGenreId', 'genreIds', 'releaseDate',\n",
       "       'isVppDeviceBasedLicensingEnabled', 'sellerName',\n",
       "       'currentVersionReleaseDate', 'currency', 'trackCensoredName',\n",
       "       'languageCodesISO2A', 'fileSizeBytes', 'sellerUrl', 'formattedPrice',\n",
       "       'contentAdvisoryRating', 'averageUserRatingForCurrentVersion',\n",
       "       'userRatingCountForCurrentVersion', 'averageUserRating', 'trackViewUrl',\n",
       "       'trackContentRating', 'version', 'wrapperType', 'userRatingCount'],\n",
       "      dtype='object')"
      ]
     },
     "execution_count": 52,
     "metadata": {},
     "output_type": "execute_result"
    }
   ],
   "source": [
    "df.columns"
   ]
  },
  {
   "cell_type": "code",
   "execution_count": null,
   "id": "d7225b39",
   "metadata": {},
   "outputs": [],
   "source": [
    "top_apps_df = df[[\n",
    "    'trackId', 'trackName', 'averageUserRating', 'userRatingCount','formattedPrice'\n",
    "     'price', 'trackViewUrl', 'contentAdvisoryRating'\n",
    "]]\n",
    "top_apps_df.to_parquet('C:/Users/nandi/OneDrive/Desktop/Profitable-App-Profiles-for-Mobile-Market/data/top_apps.parquet', index=False)"
   ]
  },
  {
   "cell_type": "code",
   "execution_count": null,
   "id": "591afdfc",
   "metadata": {},
   "outputs": [
    {
     "name": "stdout",
     "output_type": "stream",
     "text": [
      "                         trackName  averageUserRating  userRatingCount  price  \\\n",
      "2649            WhatsApp Messenger            4.69163         12894602    0.0   \n",
      "2652                 Amazon Kindle            4.85231          4426958    0.0   \n",
      "2650            Amazon Prime Video            4.78128          2977157    0.0   \n",
      "207   Canva: Design, Photo & Video            4.88332          1818830    0.0   \n",
      "2661    DuckDuckGo Private Browser            4.85703          1667157    0.0   \n",
      "905                     TestFlight            4.74403           701021    0.0   \n",
      "2665  Zappos: Shop shoes & clothes            4.92001           672567    0.0   \n",
      "442          CapCut - Video Editor            4.76617           639400    0.0   \n",
      "2659    NordVPN: VPN Fast & Secure            4.65495           451379    0.0   \n",
      "2662                 Color Widgets            4.61278           419845    0.0   \n",
      "\n",
      "      is_paid  \n",
      "2649     True  \n",
      "2652     True  \n",
      "2650     True  \n",
      "207      True  \n",
      "2661     True  \n",
      "905      True  \n",
      "2665     True  \n",
      "442      True  \n",
      "2659     True  \n",
      "2662     True  \n"
     ]
    }
   ],
   "source": [
    "\n",
    "df = pd.read_parquet('C:/Users/nandi/OneDrive/Desktop/Profitable-App-Profiles-for-Mobile-Market/data/top_apps.parquet')\n",
    "\n",
    "# Filter for high-rated apps with strong engagement\n",
    "top = df[\n",
    "    (df['averageUserRating'] >= 4.5) &\n",
    "    (df['userRatingCount'] > 1000)  # Filter out low-volume ratings\n",
    "].sort_values(by='userRatingCount', ascending=False).head(10)\n",
    "\n",
    "# Add monetization signal\n",
    "top['is_paid'] = top['price'].apply(lambda x: x != 'Free')\n",
    "\n",
    "# Display key metrics\n",
    "print(top[['trackName', 'averageUserRating', 'userRatingCount', 'price', 'is_paid']])"
   ]
  },
  {
   "cell_type": "code",
   "execution_count": null,
   "id": "37f1f486",
   "metadata": {},
   "outputs": [],
   "source": [
    "\n",
    "explorer_df = df[[\n",
    "    'trackId', 'trackName', 'averageUserRating', 'userRatingCount',\n",
    "     'contentAdvisoryRating', 'trackViewUrl','formattedPrice'\n",
    "]]\n",
    "explorer_df.to_parquet('C:/Users/nandi/OneDrive/Desktop/Profitable-App-Profiles-for-Mobile-Market/data/explorer.parquet', index=False)"
   ]
  }
 ],
 "metadata": {
  "kernelspec": {
   "display_name": "Python 3",
   "language": "python",
   "name": "python3"
  },
  "language_info": {
   "codemirror_mode": {
    "name": "ipython",
    "version": 3
   },
   "file_extension": ".py",
   "mimetype": "text/x-python",
   "name": "python",
   "nbconvert_exporter": "python",
   "pygments_lexer": "ipython3",
   "version": "3.11.9"
  }
 },
 "nbformat": 4,
 "nbformat_minor": 5
}
