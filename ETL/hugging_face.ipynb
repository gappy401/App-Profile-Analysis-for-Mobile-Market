{
 "cells": [
  {
   "cell_type": "code",
   "execution_count": 43,
   "id": "db356440",
   "metadata": {},
   "outputs": [],
   "source": [
    "from datasets import load_dataset\n",
    "import pandas as pd\n",
    "\n",
    "# Load the US App Store metadata\n",
    "ds = load_dataset(\"MacPaw/mac-app-store-apps-metadata\", \"metadata_US\")\n",
    "\n",
    "# Convert to pandas DataFrame\n",
    "df = ds['train'].to_pandas()"
   ]
  },
  {
   "cell_type": "code",
   "execution_count": 44,
   "id": "0ad6f9de",
   "metadata": {},
   "outputs": [],
   "source": [
    "df['releaseDate'] = pd.to_datetime(df['releaseDate'], errors='coerce', utc=True)\n",
    "df['currentVersionReleaseDate'] = pd.to_datetime(df['currentVersionReleaseDate'], errors='coerce', utc=True)"
   ]
  },
  {
   "cell_type": "code",
   "execution_count": 45,
   "id": "5dccd974",
   "metadata": {},
   "outputs": [],
   "source": [
    "df['isGameCenterEnabled'] = df['isGameCenterEnabled'].astype(bool)\n",
    "df['isVppDeviceBasedLicensingEnabled'] = df['isVppDeviceBasedLicensingEnabled'].astype(bool)"
   ]
  },
  {
   "cell_type": "code",
   "execution_count": 46,
   "id": "586d0902",
   "metadata": {},
   "outputs": [],
   "source": [
    "rating_cols = [\n",
    "    'averageUserRating', 'userRatingCount',\n",
    "    'averageUserRatingForCurrentVersion', 'userRatingCountForCurrentVersion',\n",
    "    'price', 'fileSizeBytes'\n",
    "]\n",
    "for col in rating_cols:\n",
    "    df[col] = pd.to_numeric(df[col], errors='coerce').fillna(0)"
   ]
  },
  {
   "cell_type": "code",
   "execution_count": 47,
   "id": "042c9dc8",
   "metadata": {},
   "outputs": [],
   "source": [
    "cat_cols = ['primaryGenreName', 'contentAdvisoryRating', 'trackContentRating', 'currency']\n",
    "for col in cat_cols:\n",
    "    df[col] = df[col].astype('category')"
   ]
  },
  {
   "cell_type": "code",
   "execution_count": 48,
   "id": "f3a4b469",
   "metadata": {},
   "outputs": [],
   "source": [
    "df['description'] = df['description'].fillna('').astype(str)\n",
    "df['releaseNotes'] = df['releaseNotes'].fillna('').astype(str)\n",
    "\n",
    "df['formattedPrice'] = df['price'].apply(lambda x: f\"${x:.2f}\" if x > 0 else \"Free\")\n"
   ]
  },
  {
   "cell_type": "code",
   "execution_count": 49,
   "id": "f121fc7c",
   "metadata": {},
   "outputs": [],
   "source": [
    "df = df.convert_dtypes()"
   ]
  },
  {
   "cell_type": "code",
   "execution_count": 50,
   "id": "23296c88",
   "metadata": {},
   "outputs": [
    {
     "name": "stdout",
     "output_type": "stream",
     "text": [
      "<class 'pandas.core.frame.DataFrame'>\n",
      "RangeIndex: 31408 entries, 0 to 31407\n",
      "Data columns (total 45 columns):\n",
      " #   Column                              Non-Null Count  Dtype              \n",
      "---  ------                              --------------  -----              \n",
      " 0   id                                  31408 non-null  Int64              \n",
      " 1   supportedDevices                    8858 non-null   string             \n",
      " 2   features                            8858 non-null   string             \n",
      " 3   advisories                          8858 non-null   string             \n",
      " 4   isGameCenterEnabled                 31408 non-null  boolean            \n",
      " 5   screenshotUrls                      31408 non-null  string             \n",
      " 6   ipadScreenshotUrls                  8858 non-null   string             \n",
      " 7   appletvScreenshotUrls               8858 non-null   string             \n",
      " 8   artworkUrl60                        31408 non-null  string             \n",
      " 9   artworkUrl512                       31408 non-null  string             \n",
      " 10  artworkUrl100                       31408 non-null  string             \n",
      " 11  artistViewUrl                       31356 non-null  string             \n",
      " 12  kind                                31408 non-null  string             \n",
      " 13  minimumOsVersion                    31408 non-null  string             \n",
      " 14  releaseNotes                        31408 non-null  string             \n",
      " 15  artistId                            31408 non-null  Int64              \n",
      " 16  artistName                          31408 non-null  string             \n",
      " 17  genres                              31408 non-null  string             \n",
      " 18  price                               31408 non-null  Float64            \n",
      " 19  description                         31408 non-null  string             \n",
      " 20  trackId                             31408 non-null  Int64              \n",
      " 21  trackName                           31408 non-null  string             \n",
      " 22  bundleId                            31408 non-null  string             \n",
      " 23  primaryGenreName                    31408 non-null  category           \n",
      " 24  primaryGenreId                      31408 non-null  Int64              \n",
      " 25  genreIds                            31408 non-null  string             \n",
      " 26  releaseDate                         31408 non-null  datetime64[ns, UTC]\n",
      " 27  isVppDeviceBasedLicensingEnabled    31408 non-null  boolean            \n",
      " 28  sellerName                          31408 non-null  string             \n",
      " 29  currentVersionReleaseDate           31408 non-null  datetime64[ns, UTC]\n",
      " 30  currency                            31408 non-null  category           \n",
      " 31  trackCensoredName                   31408 non-null  string             \n",
      " 32  languageCodesISO2A                  31408 non-null  string             \n",
      " 33  fileSizeBytes                       31408 non-null  Int64              \n",
      " 34  sellerUrl                           19274 non-null  string             \n",
      " 35  formattedPrice                      31408 non-null  string             \n",
      " 36  contentAdvisoryRating               31408 non-null  category           \n",
      " 37  averageUserRatingForCurrentVersion  31408 non-null  Float64            \n",
      " 38  userRatingCountForCurrentVersion    31408 non-null  Int64              \n",
      " 39  averageUserRating                   31408 non-null  Float64            \n",
      " 40  trackViewUrl                        31408 non-null  string             \n",
      " 41  trackContentRating                  31408 non-null  category           \n",
      " 42  version                             31408 non-null  string             \n",
      " 43  wrapperType                         31408 non-null  string             \n",
      " 44  userRatingCount                     31408 non-null  Int64              \n",
      "dtypes: Float64(3), Int64(7), boolean(2), category(4), datetime64[ns, UTC](2), string(27)\n",
      "memory usage: 9.9 MB\n"
     ]
    }
   ],
   "source": [
    "df.info()"
   ]
  },
  {
   "cell_type": "code",
   "execution_count": 51,
   "id": "92c3e2f3",
   "metadata": {},
   "outputs": [],
   "source": [
    "overview_df = df[[\n",
    "    'trackId', 'trackName', 'primaryGenreName', 'averageUserRating',\n",
    "    'contentAdvisoryRating', 'userRatingCount'\n",
    "]]\n",
    "overview_df.to_parquet('C:/Users/nandi/OneDrive/Desktop/Profitable-App-Profiles-for-Mobile-Market/data/overview.parquet', index=False)"
   ]
  },
  {
   "cell_type": "code",
   "execution_count": 52,
   "id": "2d93c216",
   "metadata": {},
   "outputs": [
    {
     "data": {
      "text/plain": [
       "Index(['id', 'supportedDevices', 'features', 'advisories',\n",
       "       'isGameCenterEnabled', 'screenshotUrls', 'ipadScreenshotUrls',\n",
       "       'appletvScreenshotUrls', 'artworkUrl60', 'artworkUrl512',\n",
       "       'artworkUrl100', 'artistViewUrl', 'kind', 'minimumOsVersion',\n",
       "       'releaseNotes', 'artistId', 'artistName', 'genres', 'price',\n",
       "       'description', 'trackId', 'trackName', 'bundleId', 'primaryGenreName',\n",
       "       'primaryGenreId', 'genreIds', 'releaseDate',\n",
       "       'isVppDeviceBasedLicensingEnabled', 'sellerName',\n",
       "       'currentVersionReleaseDate', 'currency', 'trackCensoredName',\n",
       "       'languageCodesISO2A', 'fileSizeBytes', 'sellerUrl', 'formattedPrice',\n",
       "       'contentAdvisoryRating', 'averageUserRatingForCurrentVersion',\n",
       "       'userRatingCountForCurrentVersion', 'averageUserRating', 'trackViewUrl',\n",
       "       'trackContentRating', 'version', 'wrapperType', 'userRatingCount'],\n",
       "      dtype='object')"
      ]
     },
     "execution_count": 52,
     "metadata": {},
     "output_type": "execute_result"
    }
   ],
   "source": [
    "df.columns"
   ]
  },
  {
   "cell_type": "code",
   "execution_count": 53,
   "id": "d7225b39",
   "metadata": {},
   "outputs": [],
   "source": [
    "top_apps_df = df[[\n",
    "    'trackId', 'trackName', 'averageUserRating', 'userRatingCount',\n",
    "     'price', 'trackViewUrl', 'contentAdvisoryRating'\n",
    "]]\n",
    "top_apps_df.to_parquet('C:/Users/nandi/OneDrive/Desktop/Profitable-App-Profiles-for-Mobile-Market/data/top_apps.parquet', index=False)"
   ]
  },
  {
   "cell_type": "code",
   "execution_count": 54,
   "id": "591afdfc",
   "metadata": {},
   "outputs": [
    {
     "name": "stdout",
     "output_type": "stream",
     "text": [
      "                         trackName  averageUserRating  userRatingCount  price  \\\n",
      "2649            WhatsApp Messenger            4.69163         12894602    0.0   \n",
      "2652                 Amazon Kindle            4.85231          4426958    0.0   \n",
      "2650            Amazon Prime Video            4.78128          2977157    0.0   \n",
      "207   Canva: Design, Photo & Video            4.88332          1818830    0.0   \n",
      "2661    DuckDuckGo Private Browser            4.85703          1667157    0.0   \n",
      "905                     TestFlight            4.74403           701021    0.0   \n",
      "2665  Zappos: Shop shoes & clothes            4.92001           672567    0.0   \n",
      "442          CapCut - Video Editor            4.76617           639400    0.0   \n",
      "2659    NordVPN: VPN Fast & Secure            4.65495           451379    0.0   \n",
      "2662                 Color Widgets            4.61278           419845    0.0   \n",
      "\n",
      "      is_paid  \n",
      "2649     True  \n",
      "2652     True  \n",
      "2650     True  \n",
      "207      True  \n",
      "2661     True  \n",
      "905      True  \n",
      "2665     True  \n",
      "442      True  \n",
      "2659     True  \n",
      "2662     True  \n"
     ]
    }
   ],
   "source": [
    "\n",
    "df = pd.read_parquet('C:/Users/nandi/OneDrive/Desktop/Profitable-App-Profiles-for-Mobile-Market/data/top_apps.parquet')\n",
    "\n",
    "# Filter for high-rated apps with strong engagement\n",
    "top = df[\n",
    "    (df['averageUserRating'] >= 4.5) &\n",
    "    (df['userRatingCount'] > 1000)  # Filter out low-volume ratings\n",
    "].sort_values(by='userRatingCount', ascending=False).head(10)\n",
    "\n",
    "# Add monetization signal\n",
    "top['is_paid'] = top['price'].apply(lambda x: x != 'Free')\n",
    "\n",
    "# Display key metrics\n",
    "print(top[['trackName', 'averageUserRating', 'userRatingCount', 'price', 'is_paid']])"
   ]
  },
  {
   "cell_type": "code",
   "execution_count": 55,
   "id": "37f1f486",
   "metadata": {},
   "outputs": [],
   "source": [
    "\n",
    "explorer_df = df[[\n",
    "    'trackId', 'trackName', 'averageUserRating', 'userRatingCount',\n",
    "     'contentAdvisoryRating', 'trackViewUrl'\n",
    "]]\n",
    "explorer_df.to_parquet('C:/Users/nandi/OneDrive/Desktop/Profitable-App-Profiles-for-Mobile-Market/data/explorer.parquet', index=False)"
   ]
  }
 ],
 "metadata": {
  "kernelspec": {
   "display_name": "Python 3",
   "language": "python",
   "name": "python3"
  },
  "language_info": {
   "codemirror_mode": {
    "name": "ipython",
    "version": 3
   },
   "file_extension": ".py",
   "mimetype": "text/x-python",
   "name": "python",
   "nbconvert_exporter": "python",
   "pygments_lexer": "ipython3",
   "version": "3.11.9"
  }
 },
 "nbformat": 4,
 "nbformat_minor": 5
}
