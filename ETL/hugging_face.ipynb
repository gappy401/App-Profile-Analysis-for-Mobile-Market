{
 "cells": [
  {
   "cell_type": "code",
   "execution_count": 1,
   "id": "db356440",
   "metadata": {},
   "outputs": [
    {
     "name": "stderr",
     "output_type": "stream",
     "text": [
      "C:\\Users\\nandi\\AppData\\Local\\Packages\\PythonSoftwareFoundation.Python.3.11_qbz5n2kfra8p0\\LocalCache\\local-packages\\Python311\\site-packages\\tqdm\\auto.py:21: TqdmWarning: IProgress not found. Please update jupyter and ipywidgets. See https://ipywidgets.readthedocs.io/en/stable/user_install.html\n",
      "  from .autonotebook import tqdm as notebook_tqdm\n"
     ]
    }
   ],
   "source": [
    "from datasets import load_dataset\n",
    "import pandas as pd\n",
    "\n",
    "# Load the US App Store metadata\n",
    "ds = load_dataset(\"MacPaw/mac-app-store-apps-metadata\", \"metadata_US\")\n",
    "\n",
    "# Convert to pandas DataFrame\n",
    "df = ds['train'].to_pandas()"
   ]
  },
  {
   "cell_type": "code",
   "execution_count": 2,
   "id": "0ad6f9de",
   "metadata": {},
   "outputs": [],
   "source": [
    "df['releaseDate'] = pd.to_datetime(df['releaseDate'], errors='coerce', utc=True)\n",
    "df['currentVersionReleaseDate'] = pd.to_datetime(df['currentVersionReleaseDate'], errors='coerce', utc=True)"
   ]
  },
  {
   "cell_type": "code",
   "execution_count": 3,
   "id": "5dccd974",
   "metadata": {},
   "outputs": [],
   "source": [
    "df['isGameCenterEnabled'] = df['isGameCenterEnabled'].astype(bool)\n",
    "df['isVppDeviceBasedLicensingEnabled'] = df['isVppDeviceBasedLicensingEnabled'].astype(bool)"
   ]
  },
  {
   "cell_type": "code",
   "execution_count": 4,
   "id": "586d0902",
   "metadata": {},
   "outputs": [],
   "source": [
    "rating_cols = [\n",
    "    'averageUserRating', 'userRatingCount',\n",
    "    'averageUserRatingForCurrentVersion', 'userRatingCountForCurrentVersion',\n",
    "    'price', 'fileSizeBytes'\n",
    "]\n",
    "for col in rating_cols:\n",
    "    df[col] = pd.to_numeric(df[col], errors='coerce').fillna(0)"
   ]
  },
  {
   "cell_type": "code",
   "execution_count": 5,
   "id": "042c9dc8",
   "metadata": {},
   "outputs": [],
   "source": [
    "cat_cols = ['primaryGenreName', 'contentAdvisoryRating', 'trackContentRating', 'currency']\n",
    "for col in cat_cols:\n",
    "    df[col] = df[col].astype('category')"
   ]
  },
  {
   "cell_type": "code",
   "execution_count": 6,
   "id": "f3a4b469",
   "metadata": {},
   "outputs": [],
   "source": [
    "df['description'] = df['description'].fillna('').astype(str)\n",
    "df['releaseNotes'] = df['releaseNotes'].fillna('').astype(str)\n",
    "\n",
    "df['formattedPrice'] = df['price'].apply(lambda x: f\"${x:.2f}\" if x > 0 else \"Free\")\n"
   ]
  },
  {
   "cell_type": "code",
   "execution_count": 7,
   "id": "f121fc7c",
   "metadata": {},
   "outputs": [],
   "source": [
    "df = df.convert_dtypes()"
   ]
  },
  {
   "cell_type": "code",
   "execution_count": 8,
   "id": "1b71041f",
   "metadata": {},
   "outputs": [
    {
     "name": "stdout",
     "output_type": "stream",
     "text": [
      "Found 4 apps related to Instagram.\n"
     ]
    },
    {
     "data": {
      "text/html": [
       "<div>\n",
       "<style scoped>\n",
       "    .dataframe tbody tr th:only-of-type {\n",
       "        vertical-align: middle;\n",
       "    }\n",
       "\n",
       "    .dataframe tbody tr th {\n",
       "        vertical-align: top;\n",
       "    }\n",
       "\n",
       "    .dataframe thead th {\n",
       "        text-align: right;\n",
       "    }\n",
       "</style>\n",
       "<table border=\"1\" class=\"dataframe\">\n",
       "  <thead>\n",
       "    <tr style=\"text-align: right;\">\n",
       "      <th></th>\n",
       "      <th>trackName</th>\n",
       "      <th>averageUserRating</th>\n",
       "      <th>userRatingCount</th>\n",
       "      <th>formattedPrice</th>\n",
       "    </tr>\n",
       "  </thead>\n",
       "  <tbody>\n",
       "    <tr>\n",
       "      <th>3145</th>\n",
       "      <td>Top 9 Instagram Posts of 2023</td>\n",
       "      <td>4.65553</td>\n",
       "      <td>1347</td>\n",
       "      <td>Free</td>\n",
       "    </tr>\n",
       "    <tr>\n",
       "      <th>6486</th>\n",
       "      <td>Toolbox for Instagram</td>\n",
       "      <td>5.0</td>\n",
       "      <td>2</td>\n",
       "      <td>$9.99</td>\n",
       "    </tr>\n",
       "    <tr>\n",
       "      <th>17800</th>\n",
       "      <td>InsTrack for Instagram</td>\n",
       "      <td>0.0</td>\n",
       "      <td>0</td>\n",
       "      <td>Free</td>\n",
       "    </tr>\n",
       "    <tr>\n",
       "      <th>20954</th>\n",
       "      <td>InChat for Instagram</td>\n",
       "      <td>0.0</td>\n",
       "      <td>0</td>\n",
       "      <td>$3.99</td>\n",
       "    </tr>\n",
       "  </tbody>\n",
       "</table>\n",
       "</div>"
      ],
      "text/plain": [
       "                           trackName  averageUserRating  userRatingCount  \\\n",
       "3145   Top 9 Instagram Posts of 2023            4.65553             1347   \n",
       "6486           Toolbox for Instagram                5.0                2   \n",
       "17800         InsTrack for Instagram                0.0                0   \n",
       "20954           InChat for Instagram                0.0                0   \n",
       "\n",
       "      formattedPrice  \n",
       "3145            Free  \n",
       "6486           $9.99  \n",
       "17800           Free  \n",
       "20954          $3.99  "
      ]
     },
     "execution_count": 8,
     "metadata": {},
     "output_type": "execute_result"
    }
   ],
   "source": [
    "# Filter rows where 'trackName' contains 'Instagram' (case-insensitive)\n",
    "instagram_apps = df[df['trackName'].str.contains('Instagram', case=False, na=False)]\n",
    "\n",
    "# Display results\n",
    "print(f\"Found {len(instagram_apps)} apps related to Instagram.\")\n",
    "instagram_apps[['trackName', 'averageUserRating', 'userRatingCount', 'formattedPrice']]"
   ]
  },
  {
   "cell_type": "code",
   "execution_count": 9,
   "id": "92c3e2f3",
   "metadata": {},
   "outputs": [],
   "source": [
    "overview_df = df[[\n",
    "    'trackId', 'trackName', 'primaryGenreName', 'averageUserRating','formattedPrice',\n",
    "    'contentAdvisoryRating', 'userRatingCount'\n",
    "]]\n",
    "overview_df.to_parquet('C:/Users/nandi/OneDrive/Desktop/Profitable-App-Profiles-for-Mobile-Market/data/overview.parquet', index=False)"
   ]
  },
  {
   "cell_type": "code",
   "execution_count": 10,
   "id": "2d93c216",
   "metadata": {},
   "outputs": [
    {
     "data": {
      "text/plain": [
       "Index(['id', 'supportedDevices', 'features', 'advisories',\n",
       "       'isGameCenterEnabled', 'screenshotUrls', 'ipadScreenshotUrls',\n",
       "       'appletvScreenshotUrls', 'artworkUrl60', 'artworkUrl512',\n",
       "       'artworkUrl100', 'artistViewUrl', 'kind', 'minimumOsVersion',\n",
       "       'releaseNotes', 'artistId', 'artistName', 'genres', 'price',\n",
       "       'description', 'trackId', 'trackName', 'bundleId', 'primaryGenreName',\n",
       "       'primaryGenreId', 'genreIds', 'releaseDate',\n",
       "       'isVppDeviceBasedLicensingEnabled', 'sellerName',\n",
       "       'currentVersionReleaseDate', 'currency', 'trackCensoredName',\n",
       "       'languageCodesISO2A', 'fileSizeBytes', 'sellerUrl', 'formattedPrice',\n",
       "       'contentAdvisoryRating', 'averageUserRatingForCurrentVersion',\n",
       "       'userRatingCountForCurrentVersion', 'averageUserRating', 'trackViewUrl',\n",
       "       'trackContentRating', 'version', 'wrapperType', 'userRatingCount'],\n",
       "      dtype='object')"
      ]
     },
     "execution_count": 10,
     "metadata": {},
     "output_type": "execute_result"
    }
   ],
   "source": [
    "df.columns"
   ]
  },
  {
   "cell_type": "code",
   "execution_count": 11,
   "id": "d7225b39",
   "metadata": {},
   "outputs": [],
   "source": [
    "top_apps_df = df[[\n",
    "    'trackId', 'trackName', 'averageUserRating', 'userRatingCount','formattedPrice',\n",
    "     'price', 'trackViewUrl', 'contentAdvisoryRating','primaryGenreName'\n",
    "]]\n",
    "top_apps_df.to_parquet('C:/Users/nandi/OneDrive/Desktop/Profitable-App-Profiles-for-Mobile-Market/data/top_apps.parquet', index=False)"
   ]
  },
  {
   "cell_type": "code",
   "execution_count": 12,
   "id": "591afdfc",
   "metadata": {},
   "outputs": [
    {
     "name": "stdout",
     "output_type": "stream",
     "text": [
      "                         trackName  averageUserRating  userRatingCount  price  \\\n",
      "2649            WhatsApp Messenger            4.69163         12894602    0.0   \n",
      "2652                 Amazon Kindle            4.85231          4426958    0.0   \n",
      "2650            Amazon Prime Video            4.78128          2977157    0.0   \n",
      "207   Canva: Design, Photo & Video            4.88332          1818830    0.0   \n",
      "2661    DuckDuckGo Private Browser            4.85703          1667157    0.0   \n",
      "905                     TestFlight            4.74403           701021    0.0   \n",
      "2665  Zappos: Shop shoes & clothes            4.92001           672567    0.0   \n",
      "442          CapCut - Video Editor            4.76617           639400    0.0   \n",
      "2659    NordVPN: VPN Fast & Secure            4.65495           451379    0.0   \n",
      "2662                 Color Widgets            4.61278           419845    0.0   \n",
      "\n",
      "      is_paid  \n",
      "2649     True  \n",
      "2652     True  \n",
      "2650     True  \n",
      "207      True  \n",
      "2661     True  \n",
      "905      True  \n",
      "2665     True  \n",
      "442      True  \n",
      "2659     True  \n",
      "2662     True  \n"
     ]
    }
   ],
   "source": [
    "\n",
    "df = pd.read_parquet('C:/Users/nandi/OneDrive/Desktop/Profitable-App-Profiles-for-Mobile-Market/data/top_apps.parquet')\n",
    "\n",
    "# Filter for high-rated apps with strong engagement\n",
    "top = df[\n",
    "    (df['averageUserRating'] >= 4.5) &\n",
    "    (df['userRatingCount'] > 1000)  # Filter out low-volume ratings\n",
    "].sort_values(by='userRatingCount', ascending=False).head(10)\n",
    "\n",
    "# Add monetization signal\n",
    "top['is_paid'] = top['price'].apply(lambda x: x != 'Free')\n",
    "\n",
    "# Display key metrics\n",
    "print(top[['trackName', 'averageUserRating', 'userRatingCount', 'price', 'is_paid']])"
   ]
  },
  {
   "cell_type": "code",
   "execution_count": 13,
   "id": "37f1f486",
   "metadata": {},
   "outputs": [],
   "source": [
    "\n",
    "explorer_df = df[[\n",
    "    'trackId', 'trackName', 'averageUserRating', 'userRatingCount',\n",
    "     'contentAdvisoryRating', 'trackViewUrl','formattedPrice'\n",
    "]]\n",
    "explorer_df.to_parquet('C:/Users/nandi/OneDrive/Desktop/Profitable-App-Profiles-for-Mobile-Market/data/explorer.parquet', index=False)"
   ]
  }
 ],
 "metadata": {
  "kernelspec": {
   "display_name": "Python 3",
   "language": "python",
   "name": "python3"
  },
  "language_info": {
   "codemirror_mode": {
    "name": "ipython",
    "version": 3
   },
   "file_extension": ".py",
   "mimetype": "text/x-python",
   "name": "python",
   "nbconvert_exporter": "python",
   "pygments_lexer": "ipython3",
   "version": "3.11.9"
  }
 },
 "nbformat": 4,
 "nbformat_minor": 5
}
