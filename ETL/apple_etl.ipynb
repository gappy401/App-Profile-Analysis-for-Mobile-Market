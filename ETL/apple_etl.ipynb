{
 "cells": [
  {
   "cell_type": "code",
   "execution_count": 2,
   "id": "49d65d6c",
   "metadata": {},
   "outputs": [
    {
     "name": "stdout",
     "output_type": "stream",
     "text": [
      "Requirement already satisfied: pandas in c:\\users\\nandi\\appdata\\local\\packages\\pythonsoftwarefoundation.python.3.11_qbz5n2kfra8p0\\localcache\\local-packages\\python311\\site-packages (2.3.2)\n",
      "Requirement already satisfied: numpy>=1.23.2 in c:\\users\\nandi\\appdata\\local\\packages\\pythonsoftwarefoundation.python.3.11_qbz5n2kfra8p0\\localcache\\local-packages\\python311\\site-packages (from pandas) (2.3.3)\n",
      "Requirement already satisfied: python-dateutil>=2.8.2 in c:\\users\\nandi\\appdata\\local\\packages\\pythonsoftwarefoundation.python.3.11_qbz5n2kfra8p0\\localcache\\local-packages\\python311\\site-packages (from pandas) (2.9.0.post0)\n",
      "Requirement already satisfied: pytz>=2020.1 in c:\\users\\nandi\\appdata\\local\\packages\\pythonsoftwarefoundation.python.3.11_qbz5n2kfra8p0\\localcache\\local-packages\\python311\\site-packages (from pandas) (2025.2)\n",
      "Requirement already satisfied: tzdata>=2022.7 in c:\\users\\nandi\\appdata\\local\\packages\\pythonsoftwarefoundation.python.3.11_qbz5n2kfra8p0\\localcache\\local-packages\\python311\\site-packages (from pandas) (2025.2)\n",
      "Requirement already satisfied: six>=1.5 in c:\\users\\nandi\\appdata\\local\\packages\\pythonsoftwarefoundation.python.3.11_qbz5n2kfra8p0\\localcache\\local-packages\\python311\\site-packages (from python-dateutil>=2.8.2->pandas) (1.17.0)\n"
     ]
    },
    {
     "name": "stderr",
     "output_type": "stream",
     "text": [
      "\n",
      "[notice] A new release of pip is available: 24.0 -> 25.2\n",
      "[notice] To update, run: C:\\Users\\nandi\\AppData\\Local\\Microsoft\\WindowsApps\\PythonSoftwareFoundation.Python.3.11_qbz5n2kfra8p0\\python.exe -m pip install --upgrade pip\n"
     ]
    }
   ],
   "source": [
    "!pip install pandas"
   ]
  },
  {
   "cell_type": "markdown",
   "id": "676b7d95",
   "metadata": {},
   "source": [
    "This cell reads a JSON file containing multiple app records from the Apple App Store, where each line represents a separate JSON object. It parses each line into a Python dictionary and stores them in a list. The top-level metadata and the nested app details (under the `\"item\"` key) are then flattened into two separate DataFrames. These are merged side by side to create a unified structure containing both general metadata and detailed app information. A `\"platform\"` column is added to label the dataset as originating from iOS.\n"
   ]
  },
  {
   "cell_type": "code",
   "execution_count": 3,
   "id": "6edd8716",
   "metadata": {},
   "outputs": [
    {
     "name": "stdout",
     "output_type": "stream",
     "text": [
      "Index(['app_id', 'location', 'language', 'check_url', 'time_update',\n",
      "       'se_domain', 'item.categories', 'item.languages', 'item.version',\n",
      "       'item.minimum_os_version', 'item.released_date',\n",
      "       'item.last_update_date', 'item.update_notes', 'item.images',\n",
      "       'item.advisories', 'item.type', 'item.rank_group', 'item.rank_absolute',\n",
      "       'item.position', 'item.app_id', 'item.title', 'item.url', 'item.icon',\n",
      "       'item.description', 'item.reviews_count', 'item.rating.rating_type',\n",
      "       'item.rating.value', 'item.rating.votes_count',\n",
      "       'item.rating.rating_max', 'item.price.current', 'item.price.regular',\n",
      "       'item.price.max_value', 'item.price.currency',\n",
      "       'item.price.is_price_range', 'item.price.displayed_price',\n",
      "       'item.is_free', 'item.main_category', 'item.similar_apps',\n",
      "       'item.more_apps_by_developer', 'item.size', 'item.developer',\n",
      "       'item.developer_id', 'item.developer_url', 'categories', 'languages',\n",
      "       'version', 'minimum_os_version', 'released_date', 'last_update_date',\n",
      "       'update_notes', 'images', 'advisories', 'type', 'rank_group',\n",
      "       'rank_absolute', 'position', 'app_id', 'title', 'url', 'icon',\n",
      "       'description', 'reviews_count', 'is_free', 'main_category',\n",
      "       'similar_apps', 'more_apps_by_developer', 'size', 'developer',\n",
      "       'developer_id', 'developer_url', 'rating.rating_type', 'rating.value',\n",
      "       'rating.votes_count', 'rating.rating_max', 'price.current',\n",
      "       'price.regular', 'price.max_value', 'price.currency',\n",
      "       'price.is_price_range', 'price.displayed_price', 'platform'],\n",
      "      dtype='object')\n",
      "       app_id  location language                                   check_url  \\\n",
      "0  1021526735      2840       en  https://apps.apple.com/us/app/id1021526735   \n",
      "1  1250071951      2840       en  https://apps.apple.com/us/app/id1250071951   \n",
      "2  6475365592      2840       en  https://apps.apple.com/us/app/id6475365592   \n",
      "3  6740497766      2840       en  https://apps.apple.com/us/app/id6740497766   \n",
      "4  1316451561      2840       en  https://apps.apple.com/us/app/id1316451561   \n",
      "\n",
      "                    time_update         se_domain  \\\n",
      "0  2025-04-16T01:54:44.0000000Z  itunes.apple.com   \n",
      "1  2025-04-02T20:01:08.0000000Z  itunes.apple.com   \n",
      "2  2025-04-22T11:41:39.0000000Z  itunes.apple.com   \n",
      "3  2025-04-22T08:28:58.0000000Z  itunes.apple.com   \n",
      "4  2025-04-09T00:20:14.0000000Z  itunes.apple.com   \n",
      "\n",
      "                                    item.categories  \\\n",
      "0                         [Utilities, Productivity]   \n",
      "1  [Games, Entertainment, Simulation, Role Playing]   \n",
      "2                                       [Lifestyle]   \n",
      "3                                         [Finance]   \n",
      "4                         [Productivity, Education]   \n",
      "\n",
      "                                      item.languages item.version  \\\n",
      "0  [en-US, fr-FR, de-DE, hi, it, pl, pt-PT, ru, z...        2.1.1   \n",
      "1                                            [en-US]          1.0   \n",
      "2                                     [en-US, fr-FR]      25.02.3   \n",
      "3                                            [en-US]        1.2.0   \n",
      "4                                            [en-US]        1.0.0   \n",
      "\n",
      "  item.minimum_os_version  ... rating.value rating.votes_count  \\\n",
      "0                    11.0  ...          3.3                4.0   \n",
      "1                     6.0  ...          3.7                3.0   \n",
      "2                    14.0  ...          NaN                NaN   \n",
      "3                    13.0  ...          NaN                NaN   \n",
      "4                     8.0  ...          NaN                NaN   \n",
      "\n",
      "  rating.rating_max price.current price.regular price.max_value  \\\n",
      "0                 5           0.0          None            None   \n",
      "1                 5           0.0          None            None   \n",
      "2                 5           0.0          None            None   \n",
      "3                 5           0.0          None            None   \n",
      "4                 5           0.0          None            None   \n",
      "\n",
      "   price.currency  price.is_price_range price.displayed_price platform  \n",
      "0             USD                 False                  None      iOS  \n",
      "1             USD                 False                  None      iOS  \n",
      "2             USD                 False                  None      iOS  \n",
      "3             USD                 False                  None      iOS  \n",
      "4             USD                 False                  None      iOS  \n",
      "\n",
      "[5 rows x 81 columns]\n"
     ]
    }
   ],
   "source": [
    "import json\n",
    "import pandas as pd\n",
    "\n",
    "# Load each JSON object from the file\n",
    "data = []\n",
    "with open('C:/Users/nandi/OneDrive/Desktop/App-Ratings/data/apple_app.json', encoding='utf-8') as f:\n",
    "    for line in f:\n",
    "        data.append(json.loads(line))\n",
    "\n",
    "# Each record is a full app object with 'item' nested inside\n",
    "# Extract top-level metadata (e.g., app_id, location, etc.)\n",
    "meta_df = pd.json_normalize(data)\n",
    "\n",
    "# Extract nested 'item' fields from each record\n",
    "item_df = pd.json_normalize([record['item'] for record in data])\n",
    "\n",
    "# Combine both into one DataFrame\n",
    "apple_df = pd.concat([meta_df, item_df], axis=1)\n",
    "\n",
    "# Add platform label\n",
    "apple_df['platform'] = 'iOS'\n",
    "\n",
    "# Preview structure\n",
    "print(apple_df.columns)\n",
    "print(apple_df.head())"
   ]
  },
  {
   "cell_type": "code",
   "execution_count": 4,
   "id": "d12e45af",
   "metadata": {},
   "outputs": [],
   "source": [
    "import re\n",
    "import numpy as np\n",
    "\n",
    "# Clean and normalize description text\n",
    "def clean_text(text):\n",
    "    text = re.sub(r'\\W+', ' ', str(text).lower())  # Remove punctuation and lowercase\n",
    "    return text.strip()\n",
    "\n"
   ]
  },
  {
   "cell_type": "code",
   "execution_count": 5,
   "id": "05a98900",
   "metadata": {},
   "outputs": [
    {
     "data": {
      "text/html": [
       "<div>\n",
       "<style scoped>\n",
       "    .dataframe tbody tr th:only-of-type {\n",
       "        vertical-align: middle;\n",
       "    }\n",
       "\n",
       "    .dataframe tbody tr th {\n",
       "        vertical-align: top;\n",
       "    }\n",
       "\n",
       "    .dataframe thead th {\n",
       "        text-align: right;\n",
       "    }\n",
       "</style>\n",
       "<table border=\"1\" class=\"dataframe\">\n",
       "  <thead>\n",
       "    <tr style=\"text-align: right;\">\n",
       "      <th></th>\n",
       "      <th>title</th>\n",
       "      <th>clean_description</th>\n",
       "      <th>rating_value</th>\n",
       "      <th>days_since_release</th>\n",
       "      <th>days_since_update</th>\n",
       "      <th>size_MB</th>\n",
       "    </tr>\n",
       "  </thead>\n",
       "  <tbody>\n",
       "    <tr>\n",
       "      <th>0</th>\n",
       "      <td>RFBenchmark</td>\n",
       "      <td>now thanks to rfbenchmark one can make informe...</td>\n",
       "      <td>3.3</td>\n",
       "      <td>3692</td>\n",
       "      <td>1977</td>\n",
       "      <td>18.173828</td>\n",
       "    </tr>\n",
       "    <tr>\n",
       "      <th>1</th>\n",
       "      <td>Police Cars Transporter Truck – Cargo Simulator</td>\n",
       "      <td>enjoy ultimate police force vehicles transport...</td>\n",
       "      <td>3.7</td>\n",
       "      <td>2995</td>\n",
       "      <td>2994</td>\n",
       "      <td>181.509766</td>\n",
       "    </tr>\n",
       "    <tr>\n",
       "      <th>2</th>\n",
       "      <td>Coral Casino Beach &amp; Cabana</td>\n",
       "      <td>welcome to the coral casino beach cabana club ...</td>\n",
       "      <td>0.0</td>\n",
       "      <td>595</td>\n",
       "      <td>210</td>\n",
       "      <td>144.901367</td>\n",
       "    </tr>\n",
       "    <tr>\n",
       "      <th>3</th>\n",
       "      <td>乐借借款-现金贷款分期借钱小额信用借款平台</td>\n",
       "      <td>产品介绍 乐借借款致力于为用户提供方便 快捷 安心的创新金融服务 努力打造成为一流的互联网小...</td>\n",
       "      <td>0.0</td>\n",
       "      <td>198</td>\n",
       "      <td>190</td>\n",
       "      <td>17.729492</td>\n",
       "    </tr>\n",
       "    <tr>\n",
       "      <th>4</th>\n",
       "      <td>Mijn Wateralarm</td>\n",
       "      <td>met de app mijnwateralarm ontvangt u actuele g...</td>\n",
       "      <td>0.0</td>\n",
       "      <td>2803</td>\n",
       "      <td>2802</td>\n",
       "      <td>26.716797</td>\n",
       "    </tr>\n",
       "  </tbody>\n",
       "</table>\n",
       "</div>"
      ],
      "text/plain": [
       "                                             title  \\\n",
       "0                                      RFBenchmark   \n",
       "1  Police Cars Transporter Truck – Cargo Simulator   \n",
       "2                      Coral Casino Beach & Cabana   \n",
       "3                            乐借借款-现金贷款分期借钱小额信用借款平台   \n",
       "4                                  Mijn Wateralarm   \n",
       "\n",
       "                                   clean_description  rating_value  \\\n",
       "0  now thanks to rfbenchmark one can make informe...           3.3   \n",
       "1  enjoy ultimate police force vehicles transport...           3.7   \n",
       "2  welcome to the coral casino beach cabana club ...           0.0   \n",
       "3  产品介绍 乐借借款致力于为用户提供方便 快捷 安心的创新金融服务 努力打造成为一流的互联网小...           0.0   \n",
       "4  met de app mijnwateralarm ontvangt u actuele g...           0.0   \n",
       "\n",
       "   days_since_release  days_since_update     size_MB  \n",
       "0                3692               1977   18.173828  \n",
       "1                2995               2994  181.509766  \n",
       "2                 595                210  144.901367  \n",
       "3                 198                190   17.729492  \n",
       "4                2803               2802   26.716797  "
      ]
     },
     "execution_count": 5,
     "metadata": {},
     "output_type": "execute_result"
    }
   ],
   "source": [
    "apple_df['clean_description'] = apple_df['description'].apply(clean_text)\n",
    "\n",
    "# Convert release and update dates to datetime\n",
    "apple_df['released_date'] = pd.to_datetime(apple_df['released_date'], errors='coerce')\n",
    "apple_df['last_update_date'] = pd.to_datetime(apple_df['last_update_date'], errors='coerce')\n",
    "\n",
    "# Create time-based features\n",
    "apple_df['days_since_release'] = (pd.Timestamp('now') - apple_df['released_date']).dt.days\n",
    "apple_df['days_since_update'] = (pd.Timestamp('now') - apple_df['last_update_date']).dt.days\n",
    "\n",
    "# Ensure rating is numeric and handle missing values\n",
    "apple_df['rating_value'] = pd.to_numeric(apple_df['rating.value'], errors='coerce')\n",
    "apple_df['rating_value'] = apple_df['rating_value'].fillna(0)\n",
    "\n",
    "# Optional: Convert size from bytes to MB if it's numeric\n",
    "apple_df['size_MB'] = pd.to_numeric(apple_df['size'], errors='coerce') / (1024 * 1024)\n",
    "\n",
    "# Preview cleaned data\n",
    "apple_df[['title', 'clean_description', 'rating_value', 'days_since_release', 'days_since_update', 'size_MB']].head()"
   ]
  },
  {
   "cell_type": "code",
   "execution_count": 6,
   "id": "4748b00c",
   "metadata": {},
   "outputs": [
    {
     "name": "stdout",
     "output_type": "stream",
     "text": [
      "Requirement already satisfied: scikit-learn in c:\\users\\nandi\\appdata\\local\\packages\\pythonsoftwarefoundation.python.3.11_qbz5n2kfra8p0\\localcache\\local-packages\\python311\\site-packages (1.7.2)\n",
      "Requirement already satisfied: numpy>=1.22.0 in c:\\users\\nandi\\appdata\\local\\packages\\pythonsoftwarefoundation.python.3.11_qbz5n2kfra8p0\\localcache\\local-packages\\python311\\site-packages (from scikit-learn) (2.3.3)\n",
      "Requirement already satisfied: scipy>=1.8.0 in c:\\users\\nandi\\appdata\\local\\packages\\pythonsoftwarefoundation.python.3.11_qbz5n2kfra8p0\\localcache\\local-packages\\python311\\site-packages (from scikit-learn) (1.16.2)\n",
      "Requirement already satisfied: joblib>=1.2.0 in c:\\users\\nandi\\appdata\\local\\packages\\pythonsoftwarefoundation.python.3.11_qbz5n2kfra8p0\\localcache\\local-packages\\python311\\site-packages (from scikit-learn) (1.5.2)\n",
      "Requirement already satisfied: threadpoolctl>=3.1.0 in c:\\users\\nandi\\appdata\\local\\packages\\pythonsoftwarefoundation.python.3.11_qbz5n2kfra8p0\\localcache\\local-packages\\python311\\site-packages (from scikit-learn) (3.6.0)\n"
     ]
    },
    {
     "name": "stderr",
     "output_type": "stream",
     "text": [
      "\n",
      "[notice] A new release of pip is available: 24.0 -> 25.2\n",
      "[notice] To update, run: C:\\Users\\nandi\\AppData\\Local\\Microsoft\\WindowsApps\\PythonSoftwareFoundation.Python.3.11_qbz5n2kfra8p0\\python.exe -m pip install --upgrade pip\n"
     ]
    }
   ],
   "source": [
    "!pip install scikit-learn"
   ]
  },
  {
   "cell_type": "code",
   "execution_count": 7,
   "id": "35209dd2",
   "metadata": {},
   "outputs": [],
   "source": [
    "from sklearn.feature_extraction.text import TfidfVectorizer\n",
    "\n",
    "# Initialize vectorizer\n",
    "vectorizer = TfidfVectorizer(max_features=1000, stop_words='english')\n",
    "\n",
    "# Fit and transform the clean descriptions\n",
    "tfidf_matrix = vectorizer.fit_transform(apple_df['clean_description'])\n",
    "\n",
    "# Get feature names (keywords)\n",
    "keywords = vectorizer.get_feature_names_out()\n",
    "\n",
    "# Create a DataFrame of TF-IDF scores\n",
    "tfidf_df = pd.DataFrame(tfidf_matrix.toarray(), columns=keywords)"
   ]
  },
  {
   "cell_type": "code",
   "execution_count": 8,
   "id": "2ef056e5",
   "metadata": {},
   "outputs": [],
   "source": [
    "# Function to extract top N keywords per app\n",
    "def extract_top_keywords(row_vector, feature_names, top_n=5):\n",
    "    sorted_indices = row_vector.argsort()[::-1][:top_n]\n",
    "    return [feature_names[i] for i in sorted_indices]\n",
    "\n",
    "apple_df['top_keywords'] = [\n",
    "    extract_top_keywords(row, keywords) for row in tfidf_matrix.toarray()\n",
    "]"
   ]
  },
  {
   "cell_type": "code",
   "execution_count": 9,
   "id": "bb891632",
   "metadata": {},
   "outputs": [],
   "source": [
    "# Create a small labeled sample\n",
    "labeled_df = apple_df[['title', 'clean_description']].copy()\n",
    "\n",
    "# Manually assign genres for training (you can refine this later)\n",
    "labeled_df['genre'] = labeled_df['clean_description'].apply(lambda x: \n",
    "    'Utilities' if 'network' in x or 'benchmark' in x else\n",
    "    'Finance' if 'finance' in x or 'money' in x else\n",
    "    'Photography' if 'photo' in x or 'camera' in x else\n",
    "    'Gaming' if 'game' in x else\n",
    "    'Health & Fitness' if 'health' in x or 'fitness' in x else\n",
    "    'Other'\n",
    ")\n",
    "\n",
    "# Filter out 'Other' to improve training quality\n",
    "train_df = labeled_df[labeled_df['genre'] != 'Other']"
   ]
  },
  {
   "cell_type": "code",
   "execution_count": 10,
   "id": "79720a67",
   "metadata": {},
   "outputs": [
    {
     "name": "stdout",
     "output_type": "stream",
     "text": [
      "                  precision    recall  f1-score   support\n",
      "\n",
      "         Finance       1.00      0.29      0.44         7\n",
      "          Gaming       0.62      1.00      0.77        25\n",
      "Health & Fitness       0.60      0.38      0.46         8\n",
      "     Photography       0.54      0.54      0.54        13\n",
      "       Utilities       1.00      0.30      0.46        10\n",
      "\n",
      "        accuracy                           0.63        63\n",
      "       macro avg       0.75      0.50      0.54        63\n",
      "    weighted avg       0.71      0.63      0.60        63\n",
      "\n"
     ]
    }
   ],
   "source": [
    "from sklearn.feature_extraction.text import TfidfVectorizer\n",
    "from sklearn.model_selection import train_test_split\n",
    "from sklearn.naive_bayes import MultinomialNB\n",
    "from sklearn.pipeline import Pipeline\n",
    "from sklearn.metrics import classification_report\n",
    "\n",
    "# Split data\n",
    "X_train, X_test, y_train, y_test = train_test_split(\n",
    "    train_df['clean_description'], train_df['genre'], test_size=0.2, random_state=42\n",
    ")\n",
    "\n",
    "# Build pipeline\n",
    "model = Pipeline([\n",
    "    ('tfidf', TfidfVectorizer(max_features=1000, stop_words='english')),\n",
    "    ('clf', MultinomialNB())\n",
    "])\n",
    "\n",
    "# Train model\n",
    "model.fit(X_train, y_train)\n",
    "\n",
    "# Evaluate\n",
    "y_pred = model.predict(X_test)\n",
    "print(classification_report(y_test, y_pred))"
   ]
  },
  {
   "cell_type": "code",
   "execution_count": 11,
   "id": "35030933",
   "metadata": {},
   "outputs": [],
   "source": [
    "# Apply model to all apps\n",
    "apple_df['predicted_genre'] = model.predict(apple_df['clean_description'])"
   ]
  },
  {
   "cell_type": "code",
   "execution_count": 12,
   "id": "e76ab25b",
   "metadata": {},
   "outputs": [],
   "source": [
    "# Save cleaned and enriched Apple App Store data\n",
    "apple_df.to_csv('C:/Users/nandi/OneDrive/Desktop/App-Ratings/data/apple_cleaned.csv', index=False)"
   ]
  },
  {
   "cell_type": "code",
   "execution_count": 14,
   "id": "7b4a642f",
   "metadata": {},
   "outputs": [
    {
     "data": {
      "text/plain": [
       "0                                        RFBenchmark\n",
       "1    Police Cars Transporter Truck – Cargo Simulator\n",
       "2                        Coral Casino Beach & Cabana\n",
       "3                              乐借借款-现金贷款分期借钱小额信用借款平台\n",
       "4                                    Mijn Wateralarm\n",
       "Name: title, dtype: object"
      ]
     },
     "execution_count": 14,
     "metadata": {},
     "output_type": "execute_result"
    }
   ],
   "source": [
    "apple_df[\"title\"].head()"
   ]
  }
 ],
 "metadata": {
  "kernelspec": {
   "display_name": "Python 3",
   "language": "python",
   "name": "python3"
  },
  "language_info": {
   "codemirror_mode": {
    "name": "ipython",
    "version": 3
   },
   "file_extension": ".py",
   "mimetype": "text/x-python",
   "name": "python",
   "nbconvert_exporter": "python",
   "pygments_lexer": "ipython3",
   "version": "3.11.9"
  }
 },
 "nbformat": 4,
 "nbformat_minor": 5
}
